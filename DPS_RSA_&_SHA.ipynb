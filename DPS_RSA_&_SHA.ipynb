{
  "nbformat": 4,
  "nbformat_minor": 0,
  "metadata": {
    "colab": {
      "provenance": []
    },
    "kernelspec": {
      "name": "python3",
      "display_name": "Python 3"
    },
    "language_info": {
      "name": "python"
    }
  },
  "cells": [
    {
      "cell_type": "code",
      "source": [
        "import sympy\n",
        "import math\n",
        "\n",
        "public_key, private_key, n = 0, 0, 0\n",
        "\n",
        "def set_keys():\n",
        "    global public_key, private_key, n\n",
        "    p = sympy.randprime(1000, 2000)\n",
        "    q = sympy.randprime(1000, 2000)\n",
        "    print('Prime Numbers  - ', p, q)\n",
        "    n = p * q\n",
        "    fi = (p - 1) * (q - 1)\n",
        "    e = 2\n",
        "    while True:\n",
        "        if math.gcd(e, fi) == 1:\n",
        "            break\n",
        "        e += 1\n",
        "    public_key = e\n",
        "    d = 2\n",
        "    while True:\n",
        "        if (d * e) % fi == 1:\n",
        "            break\n",
        "        d += 1\n",
        "    private_key = d\n",
        "\n",
        "def encoder(message):\n",
        "    encrypted = []\n",
        "    for x in message:\n",
        "        enc = 1\n",
        "        e = public_key\n",
        "        while e > 0:\n",
        "            enc *= ord(x)\n",
        "            enc %= n\n",
        "            e -= 1\n",
        "        encrypted.append(enc)\n",
        "    return encrypted\n",
        "\n",
        "def decoder(message):\n",
        "    decrypted = []\n",
        "    for x in message:\n",
        "        dec = 1\n",
        "        d = private_key\n",
        "        while d > 0:\n",
        "            dec *= x\n",
        "            dec %= n\n",
        "            d -= 1\n",
        "        decrypted.append(dec)\n",
        "    return decrypted\n",
        "\n",
        "if __name__ == '__main__':\n",
        "    set_keys()\n",
        "    print('Keys - ', public_key, private_key)\n",
        "    message = 'Encrypt this'\n",
        "    print('Original Message - ', [ord(x) for x in message])\n",
        "    encrypt_text = encoder(message)\n",
        "    print('Encrypted Message - ', encrypt_text)\n",
        "    decrypt_text = decoder(encrypt_text)\n",
        "    print('Decrypted Message - ', decrypt_text)"
      ],
      "metadata": {
        "colab": {
          "base_uri": "https://localhost:8080/"
        },
        "id": "XUzYx7wIvUFv",
        "outputId": "753cdc6f-828d-4c2a-dd42-6e8298578c52"
      },
      "execution_count": null,
      "outputs": [
        {
          "output_type": "stream",
          "name": "stdout",
          "text": [
            "Prime Numbers  -  1381 1361\n",
            "Keys -  7 804343\n",
            "Original Message -  [69, 110, 99, 114, 121, 112, 116, 32, 116, 104, 105, 115]\n",
            "Encrypted Message -  [875576, 699402, 744108, 1514017, 262980, 1712376, 31647, 1728888, 31647, 1783560, 262280, 649023]\n",
            "Decrypted Message -  [69, 110, 99, 114, 121, 112, 116, 32, 116, 104, 105, 115]\n"
          ]
        }
      ]
    },
    {
      "cell_type": "code",
      "source": [
        "from hashlib import sha512\n",
        "text = 'Hello There!'\n",
        "hash = sha512(text.encode('utf-8'))\n",
        "print(text)\n",
        "print(hash.hexdigest())"
      ],
      "metadata": {
        "id": "nE2AscWi7cg0",
        "colab": {
          "base_uri": "https://localhost:8080/"
        },
        "outputId": "4111f21c-2e81-4951-e2ef-48c447cea6d4"
      },
      "execution_count": null,
      "outputs": [
        {
          "output_type": "stream",
          "name": "stdout",
          "text": [
            "Hello There!\n",
            "856ab8ea61c622d37faa117c8fcd9b6933190be9669fd76653e2b31b0ff99516d60a18efbf065039d0626ff5c2f35d93cb07e4bfda22d7fb50edcede07bba1ed\n"
          ]
        }
      ]
    }
  ]
}