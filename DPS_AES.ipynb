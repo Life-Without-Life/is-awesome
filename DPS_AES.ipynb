{
  "cells": [
    {
      "cell_type": "code",
      "execution_count": null,
      "metadata": {
        "id": "q4j2Iu8ERAWs"
      },
      "outputs": [],
      "source": [
        "def hex2bin(s):\n",
        "    mp = {'0': \"0000\", '1': \"0001\", '2': \"0010\", '3': \"0011\", '4': \"0100\", '5': \"0101\", '6': \"0110\", '7': \"0111\",\n",
        "\t\t  '8': \"1000\", '9': \"1001\", 'A': \"1010\", 'B': \"1011\", 'C': \"1100\", 'D': \"1101\", 'E': \"1110\", 'F': \"1111\"}\n",
        "    bin = \"\"\n",
        "    for i in range(len(s)):\n",
        "        bin = bin + mp[s[i]]\n",
        "    return bin\n",
        "\n",
        "def bin2hex(s):\n",
        "\tmp = {\"0000\": '0', \"0001\": '1', \"0010\": '2', \"0011\": '3', \"0100\": '4', \"0101\": '5', \"0110\": '6', \"0111\": '7',\n",
        "          \"1000\": '8', \"1001\": '9', \"1010\": 'A', \"1011\": 'B', \"1100\": 'C', \"1101\": 'D', \"1110\": 'E', \"1111\": 'F'}\n",
        "\thex = \"\"\n",
        "\tfor i in range(0, len(s), 4):\n",
        "\t\tch = \"\" + s[i] + s[i + 1] + s[i + 2] + s[i + 3]\n",
        "\t\thex = hex + mp[ch]\n",
        "\treturn hex"
      ]
    },
    {
      "cell_type": "code",
      "execution_count": null,
      "metadata": {
        "id": "ZJjwzl7HRAWt"
      },
      "outputs": [],
      "source": [
        "def bin2dec(binary):\n",
        "\tbinary1 = binary\n",
        "\tdecimal, i, n = 0, 0, 0\n",
        "\twhile(binary != 0):\n",
        "\t\tdec = binary % 10\n",
        "\t\tdecimal = decimal + dec * pow(2, i)\n",
        "\t\tbinary = binary//10\n",
        "\t\ti += 1\n",
        "\treturn decimal\n",
        "\n",
        "def dec2bin(num):\n",
        "\tres = bin(num).replace(\"0b\", \"\")\n",
        "\tif(len(res) % 4 != 0):\n",
        "\t\tdiv = int(len(res) / 4)\n",
        "\t\tcounter = (4 * (div + 1)) - len(res)\n",
        "\t\tfor i in range(0, counter):\n",
        "\t\t\tres = '0' + res\n",
        "\treturn res"
      ]
    },
    {
      "cell_type": "code",
      "execution_count": null,
      "metadata": {
        "id": "QIhB5rmCdpaq"
      },
      "outputs": [],
      "source": [
        "def xor(a, b):\n",
        "    ans = \"\"\n",
        "    for i in range(len(a)):\n",
        "        if a[i] == b[i]:\n",
        "            ans = ans + \"0\"\n",
        "        else:\n",
        "            ans = ans + \"1\"\n",
        "    return ans"
      ]
    },
    {
      "cell_type": "code",
      "execution_count": null,
      "metadata": {
        "id": "ZtqExtSL3whD"
      },
      "outputs": [],
      "source": [
        "def printState(state):\n",
        "    for x in state:\n",
        "        print(end='\\t')\n",
        "        for j in x:\n",
        "            print(j, end='\\t')\n",
        "        print()\n",
        "    print()"
      ]
    },
    {
      "cell_type": "code",
      "execution_count": null,
      "metadata": {
        "id": "nKA_IiEgcxsC"
      },
      "outputs": [],
      "source": [
        "def gen_t(w, i):\n",
        "    RCon = ['01000000', '02000000', '04000000', '08000000', '10000000', '20000000', '40000000', '80000000', '1B000000', '36000000']\n",
        "    g = w[2:] + w[:2]\n",
        "    s = ''\n",
        "    for j in range(0, len(g), 2):\n",
        "        s += S_Box[g[j]][g[j+1]]\n",
        "    A = bin2hex(xor(hex2bin(s), hex2bin(RCon[i])))\n",
        "    return A"
      ]
    },
    {
      "cell_type": "code",
      "execution_count": null,
      "metadata": {
        "id": "1JZtY3HpVRrF"
      },
      "outputs": [],
      "source": [
        "def aes_key_gen(key):\n",
        "    n = 8\n",
        "    word = [(key[i:i+n]) for i in range(0, len(key), n)]\n",
        "    t = []\n",
        "    rk = [[[word[0][2 * i: 2 * (i + 1)], word[1][2 * i: 2 * (i + 1)], word[2][2 * i: 2 * (i + 1)], word[3][2 * i: 2 * (i + 1)]] for i in range(4)]]\n",
        "    for j in range(1, 11):\n",
        "        t = gen_t(word[4 * j - 1], j - 1)\n",
        "        w0 = bin2hex(xor(hex2bin(t), hex2bin(word[4 * j - 4])))\n",
        "        word.append(w0)\n",
        "        w1 = bin2hex(xor(hex2bin(word[4 * j - 3]), hex2bin(word[-1])))\n",
        "        word.append(w1)\n",
        "        w2 = bin2hex(xor(hex2bin(word[4 * j - 2]), hex2bin(word[-1])))\n",
        "        word.append(w2)\n",
        "        w3 = bin2hex(xor(hex2bin(word[4 * j - 1]), hex2bin(word[-1])))\n",
        "        word.append(w3)\n",
        "        mat = [[w0[2 * i: 2 * (i + 1)], w1[2 * i: 2 * (i + 1)], w2[2 * i: 2 * (i + 1)], w3[2 * i: 2 * (i + 1)]] for i in range(4)]\n",
        "        rk.append(mat)\n",
        "    return rk"
      ]
    },
    {
      "cell_type": "code",
      "execution_count": null,
      "metadata": {
        "id": "40JosPxUlIGf"
      },
      "outputs": [],
      "source": [
        "def add_round_key(rk, state):\n",
        "    mat = [['' for i in range(4)] for j in range(4)]\n",
        "    for i in range(4):\n",
        "        for j in range(4):\n",
        "            m1 = hex2bin(state[i][j])\n",
        "            m2 = hex2bin(rk[i][j])\n",
        "            mat[i][j] = bin2hex(xor(m1, m2))\n",
        "    return mat"
      ]
    },
    {
      "cell_type": "code",
      "execution_count": null,
      "metadata": {
        "id": "42clFK1QzhrJ"
      },
      "outputs": [],
      "source": [
        "def hex_product(a, b):\n",
        "    A = hex2bin(a)\n",
        "    B = hex2bin(b)\n",
        "    if B.count('1') > A.count('1'):\n",
        "        A, B = B, A\n",
        "    B = B[::-1]\n",
        "    L = len(B)\n",
        "    c = [\"\" for i in range(L)]\n",
        "    for i in range(L):\n",
        "        if B[i] == '1':\n",
        "            if i == 0:\n",
        "                c[i] = A\n",
        "            else:\n",
        "                c[i] = A[i:] + \"0\" * i\n",
        "        else:\n",
        "            c[i] = \"0\" * 8\n",
        "    c = list(zip(*c))\n",
        "    C = \"\"\n",
        "    for col in c:\n",
        "        if col.count('1') % 2 == 0:\n",
        "            C = C + \"0\"\n",
        "        else:\n",
        "            C = C + '1'\n",
        "    return bin2hex(C)"
      ]
    },
    {
      "cell_type": "code",
      "execution_count": null,
      "metadata": {
        "id": "BR1xFY0uj5qz"
      },
      "outputs": [],
      "source": [
        "def xor_list(l):\n",
        "    l = [hex2bin(x) for x in l]\n",
        "    x = ''\n",
        "    for i in range(len(l[0])):\n",
        "        s = 0\n",
        "        for j in range(len(l)):\n",
        "            if l[j][i] == '1':\n",
        "                s += 1\n",
        "        if s % 2 == 0:\n",
        "            x += '0'\n",
        "        else:\n",
        "            x += '1'\n",
        "    return bin2hex(x)"
      ]
    },
    {
      "cell_type": "code",
      "execution_count": null,
      "metadata": {
        "id": "x48xvYo-coVX"
      },
      "outputs": [],
      "source": [
        "def mixColumns(A):\n",
        "    B = [['02', '03', '01', '01'], ['01', '02', '03', '01'], ['01', '01', '02', '03'], ['03', '01', '01', '02']]\n",
        "    C = [[\"\" for i in range(4)] for j in range(4)]\n",
        "    for i in range(4):\n",
        "        for j in range(4):\n",
        "            l = []\n",
        "            for k in range(4):\n",
        "                t = hex_product(A[i][k], B[k][j])\n",
        "                l.append(t)\n",
        "            C[i][j] = xor_list(l)\n",
        "    return C"
      ]
    },
    {
      "cell_type": "code",
      "execution_count": null,
      "metadata": {
        "id": "EqlH6fGLSlrK"
      },
      "outputs": [],
      "source": [
        "def subBytes(mat):\n",
        "    sub_state = mat\n",
        "    for i in range(4):\n",
        "        for j in range(4):\n",
        "            r, c = mat[i][j]\n",
        "            sub_state[i][j] = S_Box[r][c]\n",
        "    return sub_state"
      ]
    },
    {
      "cell_type": "code",
      "execution_count": null,
      "metadata": {
        "id": "HF7juz9iS3bu"
      },
      "outputs": [],
      "source": [
        "def shiftRows(mat):\n",
        "    shift = mat\n",
        "    for i in range(4):\n",
        "        shift[i] = mat[i][i:] + mat[i][:i]\n",
        "    return shift"
      ]
    },
    {
      "cell_type": "code",
      "execution_count": null,
      "metadata": {
        "id": "L0LmHmaiRqGt"
      },
      "outputs": [],
      "source": [
        "def concatState(mat):\n",
        "    s = ''\n",
        "    for i in range(4):\n",
        "        for j in range(4):\n",
        "            s += mat[j][i]\n",
        "    return s"
      ]
    },
    {
      "cell_type": "code",
      "execution_count": null,
      "metadata": {
        "id": "NEObuF9jUyOQ"
      },
      "outputs": [],
      "source": [
        "def intToState(pt):\n",
        "    lis = [pt[i:i+2] for i in range(0, len(pt), 2)]\n",
        "    state = [[\"\" for j in range(4)] for i in range(4)]\n",
        "    k = 0\n",
        "    for i in range(4):\n",
        "        for j in range(4):\n",
        "            if k < len(lis):\n",
        "                state[i][j] = lis[k]\n",
        "                k += 1\n",
        "    for i in range(4):\n",
        "        for j in range(4):\n",
        "            if state[i][j] == '':\n",
        "                state[i][j] = bin2hex(dec2bin(ord('Z')))\n",
        "    return state"
      ]
    },
    {
      "cell_type": "code",
      "execution_count": null,
      "metadata": {
        "id": "Fz2c86c-RL_2"
      },
      "outputs": [],
      "source": [
        "def aes_encrypt(pt, rkh, show=False):\n",
        "    states = []\n",
        "    state = intToState(pt)\n",
        "    if show:\n",
        "        print('Initial State: ')\n",
        "        printState(state)\n",
        "    round0_state = add_round_key(rkh[0], state)\n",
        "    if show:\n",
        "        print(\"State after Round 0: \")\n",
        "        printState(round0_state)\n",
        "    states.append(round0_state)\n",
        "    for k in range(1, 11):\n",
        "        prev = states[-1]\n",
        "        sub_state = subBytes(prev)\n",
        "        if show:\n",
        "            print(' State after substitution:')\n",
        "            printState(sub_state)\n",
        "        shift = shiftRows(sub_state)\n",
        "        if show:\n",
        "            print(' State after shift:')\n",
        "            printState(shift)\n",
        "        mc = mixColumns(shift)\n",
        "        if show:\n",
        "            print(' State after mix columns:')\n",
        "            printState(mc)\n",
        "        state = add_round_key(rkh[k], mc)\n",
        "        if show:\n",
        "            print(\"State after Round {}:\".format(k))\n",
        "            printState(state)\n",
        "        states.append(state)\n",
        "    states = [concatState(x) for x in states]\n",
        "    ct = states[-1]\n",
        "    return ct, states"
      ]
    },
    {
      "cell_type": "code",
      "execution_count": null,
      "metadata": {
        "id": "yV3nULHFYcj7"
      },
      "outputs": [],
      "source": [
        "# S-Box\n",
        "S_Box = {'0': {'0': '63', '1': '7C', '2': '77', '3': '7B', '4': 'F2', '5': '6B', '6': '6F', '7': 'C5', '8': '30', '9': '01', 'A': '67', 'B': '2B', 'C': 'FE', 'D': 'D7', 'E': 'AB', 'F': '76'},\n",
        "         '1': {'0': 'CA', '1': '82', '2': 'C9', '3': '7D', '4': 'FA', '5': '59', '6': '47', '7': 'F0', '8': 'AD', '9': 'D4', 'A': 'A2', 'B': 'AF', 'C': '9C', 'D': 'A4', 'E': '72', 'F': 'C0'},\n",
        "         '2': {'0': 'B7', '1': 'FD', '2': '93', '3': '26', '4': '36', '5': '3F', '6': 'F7', '7': 'CC', '8': '34', '9': 'A5', 'A': 'E5', 'B': 'F1', 'C': '71', 'D': 'D8', 'E': '31', 'F': '15'},\n",
        "         '3': {'0': '04', '1': 'C7', '2': '23', '3': 'C3', '4': '18', '5': '96', '6': '05', '7': '9A', '8': '07', '9': '12', 'A': '80', 'B': 'E2', 'C': 'EB', 'D': '27', 'E': 'B2', 'F': '75'},\n",
        "         '4': {'0': '09', '1': '83', '2': '2C', '3': '1A', '4': '1B', '5': '6E', '6': '5A', '7': 'A0', '8': '52', '9': '3B', 'A': 'D6', 'B': 'B3', 'C': '29', 'D': 'E3', 'E': '2F', 'F': '84'},\n",
        "         '5': {'0': '53', '1': 'D1', '2': '00', '3': 'ED', '4': '20', '5': 'FC', '6': 'B1', '7': '5B', '8': '6A', '9': 'CB', 'A': 'BE', 'B': '39', 'C': '4A', 'D': '4C', 'E': '58', 'F': 'CF'},\n",
        "         '6': {'0': 'D0', '1': 'EF', '2': 'AA', '3': 'FB', '4': '43', '5': '4D', '6': '33', '7': '85', '8': '45', '9': 'F9', 'A': '02', 'B': '7F', 'C': '50', 'D': '3C', 'E': '9F', 'F': 'A8'},\n",
        "         '7': {'0': '51', '1': 'A3', '2': '40', '3': '8F', '4': '92', '5': '9D', '6': '38', '7': 'F5', '8': 'BC', '9': 'B6', 'A': 'DA', 'B': '21', 'C': '10', 'D': 'FF', 'E': 'F3', 'F': 'D2'},\n",
        "         '8': {'0': 'CD', '1': '0C', '2': '13', '3': 'EC', '4': '5F', '5': '97', '6': '44', '7': '17', '8': 'C4', '9': 'A7', 'A': '7E', 'B': '3D', 'C': '64', 'D': '5D', 'E': '19', 'F': '73'},\n",
        "         '9': {'0': '60', '1': '81', '2': '4F', '3': 'DC', '4': '22', '5': '2A', '6': '90', '7': '88', '8': '46', '9': 'EE', 'A': 'B8', 'B': '14', 'C': 'DE', 'D': '5E', 'E': '0B', 'F': 'DB'},\n",
        "         'A': {'0': 'E0', '1': '32', '2': '3A', '3': '0A', '4': '49', '5': '06', '6': '24', '7': '5C', '8': 'C2', '9': 'D3', 'A': 'AC', 'B': '62', 'C': '91', 'D': '95', 'E': 'E4', 'F': '79'},\n",
        "         'B': {'0': 'E7', '1': 'C8', '2': '37', '3': '6D', '4': '8D', '5': 'D5', '6': '4E', '7': 'A9', '8': '6C', '9': '56', 'A': 'F4', 'B': 'EA', 'C': '65', 'D': '7A', 'E': 'AE', 'F': '08'},\n",
        "         'C': {'0': 'BA', '1': '78', '2': '25', '3': '2E', '4': '1C', '5': 'A6', '6': 'B4', '7': 'C6', '8': 'E8', '9': 'DD', 'A': '74', 'B': '1F', 'C': '4B', 'D': 'BD', 'E': '8B', 'F': '8A'},\n",
        "         'D': {'0': '70', '1': '3E', '2': 'B5', '3': '66', '4': '48', '5': '03', '6': 'F6', '7': '0E', '8': '61', '9': '35', 'A': '57', 'B': 'B9', 'C': '86', 'D': 'C1', 'E': '1D', 'F': '9E'},\n",
        "         'E': {'0': 'E1', '1': 'F8', '2': '98', '3': '11', '4': '69', '5': 'D9', '6': '8E', '7': '94', '8': '9B', '9': '1E', 'A': '87', 'B': 'E9', 'C': 'CE', 'D': '55', 'E': '28', 'F': 'DF'},\n",
        "         'F': {'0': '8C', '1': 'A1', '2': '89', '3': '0D', '4': 'BF', '5': 'E6', '6': '42', '7': '68', '8': '41', '9': '99', 'A': '2D', 'B': '0F', 'C': 'B0', 'D': '54', 'E': 'BB', 'F': '16'}\n",
        "         }"
      ]
    },
    {
      "cell_type": "code",
      "execution_count": null,
      "metadata": {
        "id": "lNIHql23TIti"
      },
      "outputs": [],
      "source": [
        "def strTopt(p):\n",
        "    s = \"\"\n",
        "    for x in p:\n",
        "        s += bin2hex(dec2bin(ord(x)))\n",
        "    d = len(s) - 2 * 16\n",
        "    if d > 0:\n",
        "        for i in range(d):\n",
        "            s += bin2hex(dec2bin(ord('Z')))\n",
        "    return s"
      ]
    },
    {
      "cell_type": "code",
      "execution_count": null,
      "metadata": {
        "colab": {
          "base_uri": "https://localhost:8080/"
        },
        "id": "FE8aRAx9WSLe",
        "outputId": "1c56c0e0-fef5-4ad9-d115-de2a94d28bfa"
      },
      "outputs": [
        {
          "name": "stdout",
          "output_type": "stream",
          "text": [
            "Initial State:\n",
            "\t41\t45\t53\t55\t\n",
            "\t53\t45\t53\t41\t\n",
            "\t4D\t41\t54\t52\t\n",
            "\t49\t58\t5A\t5A\t\n",
            "\n",
            "State after Sub Bytes:\n",
            "\t83\t6E\tED\tFC\t\n",
            "\tED\t6E\tED\t83\t\n",
            "\tE3\t83\t20\t00\t\n",
            "\t3B\t6A\tBE\tBE\t\n",
            "\n",
            "State after Shift Rows:\n",
            "\t83\t6E\tED\tFC\t\n",
            "\t6E\tED\t83\tED\t\n",
            "\t20\t00\tE3\t83\t\n",
            "\tBE\t3B\t6A\tBE\t\n",
            "\n",
            "State after Mix Columns:\n",
            "\t81\t48\t17\t22\t\n",
            "\t85\t06\tB2\tDC\t\n",
            "\t26\t00\t65\t03\t\n",
            "\tEF\t60\t99\t47\t\n",
            "\n"
          ]
        }
      ],
      "source": [
        "p = 'AESUSESAMATRIX'\n",
        "pt = strTopt(p)\n",
        "state = intToState(pt)\n",
        "print('Initial State:')\n",
        "printState(state)\n",
        "sub = subBytes(state)\n",
        "print('State after Sub Bytes:')\n",
        "printState(sub)\n",
        "shift = shiftRows(sub)\n",
        "print('State after Shift Rows:')\n",
        "printState(shift)\n",
        "mix = mixColumns(shift)\n",
        "print('State after Mix Columns:')\n",
        "printState(mix)"
      ]
    },
    {
      "cell_type": "code",
      "execution_count": null,
      "metadata": {
        "colab": {
          "base_uri": "https://localhost:8080/"
        },
        "id": "xM6tztnkTlmV",
        "outputId": "a3835ba0-993e-41db-ce3f-08c1d0b05685"
      },
      "outputs": [
        {
          "name": "stdout",
          "output_type": "stream",
          "text": [
            "41455355534553414D4154524958\n",
            "Initial State: \n",
            "\t41\t45\t53\t55\t\n",
            "\t53\t45\t53\t41\t\n",
            "\t4D\t41\t54\t52\t\n",
            "\t49\t58\t5A\t5A\t\n",
            "\n",
            "State after Round 0: \n",
            "\t65\t71\t62\t46\t\n",
            "\t26\t30\tB1\tEB\t\n",
            "\tEF\t17\t46\t06\t\n",
            "\tFA\tD0\t5A\tDD\t\n",
            "\n",
            " State after substitution:\n",
            "\t4D\tA3\tAA\t5A\t\n",
            "\tF7\t04\tC8\tE9\t\n",
            "\tDF\tF0\t5A\t6F\t\n",
            "\t2D\t70\tBE\tC1\t\n",
            "\n",
            " State after shift:\n",
            "\t4D\tA3\tAA\t5A\t\n",
            "\t04\tC8\tE9\tF7\t\n",
            "\t5A\t6F\tDF\tF0\t\n",
            "\tC1\t2D\t70\tBE\t\n",
            "\n",
            " State after mix columns:\n",
            "\t7D\t61\tA6\tA4\t\n",
            "\t30\t82\t79\t19\t\n",
            "\t14\t1F\tA5\tB4\t\n",
            "\t1D\tD7\tE8\t00\t\n",
            "\n",
            "State after Round 1:\n",
            "\tF4\tDC\t2A\t3B\t\n",
            "\t65\tA2\tBB\t71\t\n",
            "\tA1\tFC\t54\t11\t\n",
            "\tD3\t91\tAE\tC1\t\n",
            "\n",
            " State after substitution:\n",
            "\tBF\t86\tE5\tE2\t\n",
            "\t4D\t3A\tEA\tA3\t\n",
            "\t32\tB0\t20\t82\t\n",
            "\t66\t81\tE4\t78\t\n",
            "\n",
            " State after shift:\n",
            "\tBF\t86\tE5\tE2\t\n",
            "\t3A\tEA\tA3\t4D\t\n",
            "\t20\t82\t32\tB0\t\n",
            "\t78\t66\t81\tE4\t\n",
            "\n",
            " State after mix columns:\n",
            "\t3B\tCA\t1D\tD2\t\n",
            "\tEA\t74\t0F\tAF\t\n",
            "\t20\tE6\t72\t94\t\n",
            "\t3B\t21\t34\t55\t\n",
            "\n",
            "State after Round 2:\n",
            "\tF5\tB9\tE2\tB2\t\n",
            "\tB9\t07\tBE\t76\t\n",
            "\tED\tC8\tAD\tEE\t\n",
            "\t2E\t72\t21\t81\t\n",
            "\n",
            " State after substitution:\n",
            "\tE6\t56\t98\t37\t\n",
            "\t56\tC5\tAE\t38\t\n",
            "\t55\tE8\t95\t28\t\n",
            "\t31\t40\tFD\t0C\t\n",
            "\n",
            " State after shift:\n",
            "\tE6\t56\t98\t37\t\n",
            "\tC5\tAE\t38\t56\t\n",
            "\t95\t28\t55\tE8\t\n",
            "\t0C\t31\t40\tFD\t\n",
            "\n",
            " State after mix columns:\n",
            "\t5B\t29\t1B\t76\t\n",
            "\tE6\t7D\t11\t8F\t\n",
            "\t6F\t52\tAF\t92\t\n",
            "\t6E\tCB\t22\t07\t\n",
            "\n",
            "State after Round 3:\n",
            "\tA4\tA5\t68\t65\t\n",
            "\t6F\t87\t5A\t1D\t\n",
            "\tEA\tF9\tDB\t9C\t\n",
            "\tAB\t5D\tA1\t50\t\n",
            "\n",
            " State after substitution:\n",
            "\t49\t06\t45\t4D\t\n",
            "\tA8\t17\tBE\tA4\t\n",
            "\t87\t99\tB9\tDE\t\n",
            "\t62\t4C\t32\t53\t\n",
            "\n",
            " State after shift:\n",
            "\t49\t06\t45\t4D\t\n",
            "\t17\tBE\tA4\tA8\t\n",
            "\tB9\tDE\t87\t99\t\n",
            "\t53\t62\t4C\t32\t\n",
            "\n",
            " State after mix columns:\n",
            "\t06\tDF\t84\t1A\t\n",
            "\tCC\t49\t35\t15\t\n",
            "\t80\t69\t4C\tDC\t\n",
            "\tDE\t4F\t5F\t81\t\n",
            "\n",
            "State after Round 4:\n",
            "\tBE\tEB\tC3\t4E\t\n",
            "\tEE\t91\tA6\t14\t\n",
            "\t5E\t1C\t4D\tD3\t\n",
            "\t66\t61\tF2\t7B\t\n",
            "\n",
            " State after substitution:\n",
            "\tAE\tE9\t2E\t2F\t\n",
            "\t28\t81\t24\tFA\t\n",
            "\t58\t9C\tE3\t66\t\n",
            "\t33\tEF\t89\t21\t\n",
            "\n",
            " State after shift:\n",
            "\tAE\tE9\t2E\t2F\t\n",
            "\t81\t24\tFA\t28\t\n",
            "\tE3\t66\t58\t9C\t\n",
            "\t21\t33\tEF\t89\t\n",
            "\n",
            " State after mix columns:\n",
            "\tEA\t21\tE6\t6B\t\n",
            "\tA4\t19\t31\tFB\t\n",
            "\t5C\t2D\t65\t55\t\n",
            "\t05\t63\t23\t31\t\n",
            "\n",
            "State after Round 5:\n",
            "\t3E\tC1\t41\t98\t\n",
            "\tF0\t95\t2E\tE5\t\n",
            "\tAF\tAB\tE2\tDD\t\n",
            "\t9D\tD5\t38\tD0\t\n",
            "\n",
            " State after substitution:\n",
            "\tB2\t78\t83\t46\t\n",
            "\t8C\t2A\t31\tD9\t\n",
            "\t79\t62\t98\tC1\t\n",
            "\t5E\t03\t07\t70\t\n",
            "\n",
            " State after shift:\n",
            "\tB2\t78\t83\t46\t\n",
            "\t2A\t31\tD9\t8C\t\n",
            "\t98\tC1\t79\t62\t\n",
            "\t70\t5E\t03\t07\t\n",
            "\n",
            " State after mix columns:\n",
            "\t55\tE3\t7A\tC3\t\n",
            "\t28\t49\t47\t68\t\n",
            "\t2E\t31\t4B\t16\t\n",
            "\tB4\t28\t93\t25\t\n",
            "\n",
            "State after Round 6:\n",
            "\tD3\t85\tBB\tF1\t\n",
            "\tB8\t55\t44\t75\t\n",
            "\t25\tBC\t41\t94\t\n",
            "\t21\t0B\tAB\tFC\t\n",
            "\n",
            " State after substitution:\n",
            "\t66\t97\tEA\tA1\t\n",
            "\t6C\tFC\t1B\t9D\t\n",
            "\t3F\t65\t83\t22\t\n",
            "\tFD\t2B\t62\tB0\t\n",
            "\n",
            " State after shift:\n",
            "\t66\t97\tEA\tA1\t\n",
            "\tFC\t1B\t9D\t6C\t\n",
            "\t83\t22\t3F\t65\t\n",
            "\tB0\tFD\t2B\t62\t\n",
            "\n",
            " State after mix columns:\n",
            "\t52\tCF\tAA\t8D\t\n",
            "\tCA\tC3\t87\t98\t\n",
            "\tB4\t9B\tFE\t2A\t\n",
            "\t10\t63\t83\tF4\t\n",
            "\n",
            "State after Round 7:\n",
            "\t30\tCB\t6F\t7A\t\n",
            "\t49\t5C\t1B\t19\t\n",
            "\t8A\t28\t47\t11\t\n",
            "\tA6\tF6\t2E\t80\t\n",
            "\n",
            " State after substitution:\n",
            "\t04\t1F\tA8\tDA\t\n",
            "\t3B\t4A\tAF\tD4\t\n",
            "\t7E\t34\tA0\t82\t\n",
            "\t24\t42\t31\tCD\t\n",
            "\n",
            " State after shift:\n",
            "\t04\t1F\tA8\tDA\t\n",
            "\t4A\tAF\tD4\t3B\t\n",
            "\tA0\t82\t7E\t34\t\n",
            "\tCD\t24\t42\t31\t\n",
            "\n",
            " State after mix columns:\n",
            "\tD1\t40\tAF\t57\t\n",
            "\tA2\t6F\t28\tEF\t\n",
            "\tE0\tAE\tEE\tC8\t\n",
            "\tAF\t6C\t14\t4D\t\n",
            "\n",
            "State after Round 8:\n",
            "\t3F\tAA\t80\t8F\t\n",
            "\tC3\t91\t4A\t0C\t\n",
            "\t4C\tB1\t48\t55\t\n",
            "\t71\t27\tF2\tDF\t\n",
            "\n",
            " State after substitution:\n",
            "\t75\tAC\tCD\t73\t\n",
            "\t2E\t81\tD6\tFE\t\n",
            "\t29\tC8\t52\tFC\t\n",
            "\tA3\tCC\t89\t9E\t\n",
            "\n",
            " State after shift:\n",
            "\t75\tAC\tCD\t73\t\n",
            "\t81\tD6\tFE\t2E\t\n",
            "\t52\tFC\t29\tC8\t\n",
            "\t9E\tA3\tCC\t89\t\n",
            "\n",
            " State after mix columns:\n",
            "\t1E\t79\t68\t68\t\n",
            "\t58\tFF\t29\t09\t\n",
            "\t29\tEF\tCC\t45\t\n",
            "\tC8\tA1\t6A\t7B\t\n",
            "\n",
            "State after Round 9:\n",
            "\tFA\t77\t49\t91\t\n",
            "\t67\t3E\t8A\t49\t\n",
            "\tCA\t13\t96\t82\t\n",
            "\t77\t55\t78\tFB\t\n",
            "\n",
            " State after substitution:\n",
            "\t2D\tF5\t3B\t81\t\n",
            "\t85\tB2\t7E\t3B\t\n",
            "\t74\t7D\t90\t13\t\n",
            "\tF5\tFC\tBC\t0F\t\n",
            "\n",
            " State after shift:\n",
            "\t2D\tF5\t3B\t81\t\n",
            "\tB2\t7E\t3B\t85\t\n",
            "\t90\t13\t74\t7D\t\n",
            "\t0F\tF5\tFC\tBC\t\n",
            "\n",
            " State after mix columns:\n",
            "\t17\t27\tC5\t97\t\n",
            "\tAE\t94\tC3\t8B\t\n",
            "\tC0\t9F\t30\tE5\t\n",
            "\tD3\tBB\t54\t86\t\n",
            "\n",
            "State after Round 10:\n",
            "\tCC\tF2\t31\t9A\t\n",
            "\t57\tAC\t58\t50\t\n",
            "\tEE\t4D\tB8\tAA\t\n",
            "\tF5\t69\t94\tC6\t\n",
            "\n",
            "CC57EEF5F2AC4D693158B8949A50AAC6\n"
          ]
        }
      ],
      "source": [
        "k = \"2475A2B33475568831E2120013AA5487\"\n",
        "print(pt)\n",
        "rk = aes_key_gen(k)\n",
        "c, sts = aes_encrypt(pt, rk, show=True)\n",
        "print(c)"
      ]
    },
    {
      "cell_type": "code",
      "execution_count": null,
      "metadata": {
        "id": "wuhHU8ciK8X0"
      },
      "outputs": [],
      "source": [
        "def bit_diff(A, B):\n",
        "    A = hex2bin(A)\n",
        "    B = hex2bin(B)\n",
        "    C = xor(A,B)\n",
        "    return C.count('1')"
      ]
    },
    {
      "cell_type": "code",
      "execution_count": null,
      "metadata": {
        "colab": {
          "base_uri": "https://localhost:8080/"
        },
        "id": "RLZAdEJUVO9e",
        "outputId": "7b6e21ef-1e9b-4d4f-b500-92a16d8fdcd1"
      },
      "outputs": [
        {
          "name": "stdout",
          "output_type": "stream",
          "text": [
            "Initial  Bit Difference: 00 \tKeys used:  2475A2B33475568831E2120013AA5487 2475A2B33475568831E2120013AB5487 \tBit Difference in Key: 01\n",
            "Round 00 Bit Difference: 05 \tKeys used:  4D045AC1A3C86F2DAAE9DF705AF7F0BE 4D045AC1A3C86F2DAA87DF705AF7F0BE \tBit Difference in Key: 01\n",
            "Round 01 Bit Difference: 32 \tKeys used:  BF3A207886EA8266E5A33281E24DB0E4 804B2078C985826669253281E62BB0E4 \tBit Difference in Key: 21\n",
            "Round 02 Bit Difference: 50 \tKeys used:  E6C5950C56AE2831983855403756E8FD 05AC953D00FA2836AA1555BC98ADE8F1 \tBit Difference in Key: 27\n",
            "Round 03 Bit Difference: 58 \tKeys used:  4917B95306BEDE6245A4874C4DA89932 3E2C1971F19FDDDA00E0082464DD91C7 \tBit Difference in Key: 47\n",
            "Round 04 Bit Difference: 64 \tKeys used:  AE81E321E92466332EFA58EF2F289C89 7127649F9E81F650DDEA4127BA8CBE4E \tBit Difference in Key: 66\n",
            "Round 05 Bit Difference: 63 \tKeys used:  B22A98707831C15E83D97903468C6207 272E7B270CC31B43A2C1C19F89965D84 \tBit Difference in Key: 64\n",
            "Round 06 Bit Difference: 55 \tKeys used:  66FC83B0971B22FDEA9D3F2BA16C6562 6ECACF6CD87BF7D6090A9F24A8EEE7E5 \tBit Difference in Key: 70\n",
            "Round 07 Bit Difference: 55 \tKeys used:  044AA0CD1FAF8224A8D47E42DA3B3431 387E382D5BC5814E429B9407C53A4534 \tBit Difference in Key: 60\n",
            "Round 08 Bit Difference: 67 \tKeys used:  7581529EACD6FCA3CDFE29CC732EC889 C7E44E30B8CDA53E271B9C5C10D813A5 \tBit Difference in Key: 57\n",
            "Round 09 Bit Difference: 71 \tKeys used:  2DB2900FF57E13F53B3B74FC81857DBC 578893D64777850BE1BD833548DC9E73 \tBit Difference in Key: 65\n",
            "Round 10 Bit Difference: 63 \tKeys used:  CC57EEF5F2AC4D693158B8949A50AAC6 ABF0D4ECBDBB3CCDC644B2D5930A9789 \tBit Difference in Key: 68\n"
          ]
        }
      ],
      "source": [
        "k1 = \"2475A2B33475568831E2120013AA5487\"\n",
        "k2 = \"2475A2B33475568831E2120013AB5487\"\n",
        "rk1 = aes_key_gen(k1)\n",
        "rk2 = aes_key_gen(k2)\n",
        "c1, sts1 = aes_encrypt(pt, rk1)\n",
        "c2, sts2 = aes_encrypt(pt, rk2)\n",
        "rk1 = [concatState(x) for x in rk1 if type(x[0]) == type([])]\n",
        "rk2 = [concatState(x) for x in rk2 if type(x[0]) == type([])]\n",
        "diff = bit_diff(k1, k2)\n",
        "print(\"Initial  Bit Difference: {:02d}\".format(0), \"\\tKeys used: \", k1, k2, \"\\tBit Difference in Key: {:02d}\".format(diff))\n",
        "for i in range(len(sts1)):\n",
        "    diff = bit_diff(sts1[i], sts2[i])\n",
        "    d = bit_diff(rk1[i], rk2[i])\n",
        "    print(\"Round {:02d} Bit Difference: {:02d}\".format(i, diff), \"\\tKeys used: \", sts1[i], sts2[i], \"\\tBit Difference in Key: {:02d}\".format(d))"
      ]
    },
    {
      "cell_type": "code",
      "execution_count": null,
      "metadata": {
        "colab": {
          "base_uri": "https://localhost:8080/"
        },
        "id": "OtLlzsH5YJPm",
        "outputId": "995c8a4b-21dd-4f5c-ef9d-cd6543a9317d"
      },
      "outputs": [
        {
          "name": "stdout",
          "output_type": "stream",
          "text": [
            "Initial States           : 41534D49454541585353545A5541525A 42534D49454541585353545A5541525A \tBit Difference:  2\n",
            "States after SubBytes    : 83EDE33B6E6E836AEDED20BEFC8300BE 2CEDE33B6E6E836AEDED20BEFC8300BE \tBit Difference:  6\n",
            "States after ShiftRows   : 836E20BE6EED003BED83E36AFCED83BE 2C6E20BE6EED003BED83E36AFCED83BE \tBit Difference:  6\n",
            "States after MixColumns  : 818526EF4806006017B2659922DC0347 DF8526EFB9060060B8B265998DDC0347 \tBit Difference:  22\n"
          ]
        }
      ],
      "source": [
        "pt1 = '41455355534553414D4154524958'\n",
        "pt2 = '42455355534553414D4154524958'\n",
        "state1 = intToState(pt1)\n",
        "state2 = intToState(pt2)\n",
        "s1, s2 = concatState(state1), concatState(state2)\n",
        "print('Initial States           :', s1, s2, \"\\tBit Difference: \", bit_diff(s1, s2))\n",
        "sub1 = subBytes(state1)\n",
        "sub2 = subBytes(state2)\n",
        "s1, s2 = concatState(sub1), concatState(sub2)\n",
        "print('States after SubBytes    :', s1, s2, \"\\tBit Difference: \", bit_diff(s1, s2))\n",
        "shift1 = shiftRows(state1)\n",
        "shift2 = shiftRows(state2)\n",
        "s1, s2 = concatState(shift1), concatState(shift2)\n",
        "print('States after ShiftRows   :', s1, s2, \"\\tBit Difference: \", bit_diff(s1, s2))\n",
        "mix1 = mixColumns(state1)\n",
        "mix2 = mixColumns(state2)\n",
        "s1, s2 = concatState(mix1), concatState(mix2)\n",
        "print('States after MixColumns  :', s1, s2, \"\\tBit Difference: \", bit_diff(s1, s2))"
      ]
    }
  ],
  "metadata": {
    "colab": {
      "provenance": []
    },
    "kernelspec": {
      "display_name": "Python 3",
      "name": "python3"
    },
    "language_info": {
      "name": "python"
    }
  },
  "nbformat": 4,
  "nbformat_minor": 0
}
